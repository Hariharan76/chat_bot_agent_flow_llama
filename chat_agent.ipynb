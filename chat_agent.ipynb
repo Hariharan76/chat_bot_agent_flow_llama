{
 "cells": [
  {
   "cell_type": "code",
   "execution_count": null,
   "metadata": {},
   "outputs": [],
   "source": [
    "llm = load_llama_llm(model_name=LLM_MODEL_NAME, model_type=MODEL_TYPE)\n"
   ]
  },
  {
   "cell_type": "code",
   "execution_count": null,
   "metadata": {},
   "outputs": [],
   "source": [
    "# Create sim order chain\n",
    "prompt = create_prompt()\n",
    "sim_order_chain = LLMChain(llm=llm, prompt=prompt)\n",
    "# create sim order tool\n",
    "sim_order_tool = Tool.from_function(\n",
    "        func=sim_order_chain.run,\n",
    "        name=\"sim order\",\n",
    "        description=\"useful when the user wants to order sim cards\"\n",
    "        # coroutine= ... <- you can specify an async method if desired as well\n",
    "    )"
   ]
  },
  {
   "cell_type": "code",
   "execution_count": null,
   "metadata": {},
   "outputs": [],
   "source": [
    "# Create top up chain\n",
    "prompt = create_prompt()\n",
    "top_up_chain = LLMChain(llm=llm, prompt=prompt)\n",
    "# create top up tool\n",
    "top_up_tool = Tool.from_function(\n",
    "        func=top_up_chain.run,\n",
    "        name=\"top up\",\n",
    "        description=\"useful when the user wants to top up their phone number\"\n",
    "        # coroutine= ... <- you can specify an async method if desired as well\n",
    "    )"
   ]
  },
  {
   "cell_type": "code",
   "execution_count": null,
   "metadata": {},
   "outputs": [],
   "source": [
    "tools = []\n",
    "tools.append(sim_order_tool)\n",
    "tools.append(top_up_tool)"
   ]
  },
  {
   "cell_type": "code",
   "execution_count": null,
   "metadata": {},
   "outputs": [],
   "source": [
    "agent_chain = initialize_agent(tools,\n",
    "                               llm,\n",
    "                               agent=AgentType.CONVERSATIONAL_REACT_DESCRIPTION,\n",
    "                               verbose=True,\n",
    "                               memory=memory,\n",
    "                               handle_parsing_errors=True)"
   ]
  }
 ],
 "metadata": {
  "language_info": {
   "name": "python"
  },
  "orig_nbformat": 4
 },
 "nbformat": 4,
 "nbformat_minor": 2
}
